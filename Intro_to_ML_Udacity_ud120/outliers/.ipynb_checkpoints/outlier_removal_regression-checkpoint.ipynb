{
 "cells": [
  {
   "cell_type": "code",
   "execution_count": 1,
   "metadata": {},
   "outputs": [
    {
     "name": "stderr",
     "output_type": "stream",
     "text": [
      "/usr/local/lib/python2.7/dist-packages/sklearn/cross_validation.py:41: DeprecationWarning: This module was deprecated in version 0.18 in favor of the model_selection module into which all the refactored classes and functions are moved. Also note that the interface of the new CV iterators are different from that of this module. This module will be removed in 0.20.\n",
      "  \"This module will be removed in 0.20.\", DeprecationWarning)\n"
     ]
    }
   ],
   "source": [
    "#!/usr/bin/python\n",
    "\n",
    "import random\n",
    "import numpy as np\n",
    "import matplotlib.pyplot as plt\n",
    "import pickle\n",
    "from outlier_cleaner import outlierCleaner\n",
    "from sklearn.cross_validation import train_test_split\n",
    "from sklearn import linear_model\n"
   ]
  },
  {
   "cell_type": "code",
   "execution_count": 5,
   "metadata": {},
   "outputs": [],
   "source": [
    "def outlierCleaner(predictions, ages, net_worths):\n",
    "    \"\"\"\n",
    "        Clean away the 10% of points that have the largest\n",
    "        residual errors (difference between the prediction\n",
    "        and the actual net worth).\n",
    "\n",
    "        Return a list of tuples named cleaned_data where \n",
    "        each tuple is of the form (age, net_worth, error).\n",
    "    \"\"\"\n",
    "    \n",
    "    cleaned_data = []\n",
    "\n",
    "    ### your code goes here\n",
    "    \n",
    "    errors = np.empty(len(predictions))\n",
    "    \n",
    "    for i in range(len(predictions)):\n",
    "        \n",
    "        errors[i] = abs(predictions[i] - net_worths[i])\n",
    "    \n",
    "    error_sorted = np.sort(errors,axis=0)\n",
    "    #error.sort()\n",
    "    \n",
    "    index = int(0.9 * len(predictions))\n",
    "    \n",
    "    error_cleared = error_sorted[:index]\n",
    "    \n",
    "    for j in range(len(predictions)):\n",
    "        \n",
    "        error = abs(predictions[j] - net_worths[j])\n",
    "        \n",
    "        if error in error_cleared:\n",
    "            \n",
    "            cleaned_data.append([ages[j], net_worths[j], error])\n",
    "        \n",
    "        \n",
    "    return cleaned_data\n"
   ]
  },
  {
   "cell_type": "code",
   "execution_count": 6,
   "metadata": {},
   "outputs": [
    {
     "name": "stdout",
     "output_type": "stream",
     "text": [
      "[[5.07793064]]\n",
      "0.8782624703664671\n"
     ]
    },
    {
     "data": {
      "image/png": "[encoded data removed]",
      "text/plain": [
       "<Figure size 432x288 with 1 Axes>"
      ]
     },
     "metadata": {},
     "output_type": "display_data"
    }
   ],
   "source": [
    "### load up some practice data with outliers in it\n",
    "ages = pickle.load(open(\"practice_outliers_ages.pkl\", \"r\") )\n",
    "net_worths = pickle.load( open(\"practice_outliers_net_worths.pkl\", \"r\") )\n",
    "\n",
    "### ages and net_worths need to be reshaped into 2D numpy arrays\n",
    "### second argument of reshape command is a tuple of integers: (n_rows, n_columns)\n",
    "### by convention, n_rows is the number of data points\n",
    "### and n_columns is the number of features\n",
    "\n",
    "ages       = np.reshape(np.array(ages), (len(ages), 1))\n",
    "net_worths = np.reshape(np.array(net_worths), (len(net_worths), 1))\n",
    "\n",
    "\n",
    "ages_train, ages_test, net_worths_train, net_worths_test = train_test_split(ages, net_worths, test_size=0.1, random_state=42)\n",
    "\n",
    "### fill in a regression here!  Name the regression object reg so that\n",
    "### the plotting code below works, and you can see what your regression looks like\n",
    "\n",
    "\n",
    "reg = linear_model.LinearRegression()\n",
    "reg.fit(ages_train,net_worths_train)\n",
    "slope = reg.coef_\n",
    "print(slope)\n",
    "\n",
    "score = reg.score(ages_test,net_worths_test)\n",
    "print(score)\n",
    "\n",
    "try:\n",
    "    plt.plot(ages, reg.predict(ages), color=\"blue\")\n",
    "except NameError:\n",
    "    pass\n",
    "plt.scatter(ages, net_worths)\n",
    "plt.show()\n"
   ]
  },
  {
   "cell_type": "code",
   "execution_count": 7,
   "metadata": {},
   "outputs": [
    {
     "name": "stdout",
     "output_type": "stream",
     "text": [
      "[[array([57]), array([338.08951849]), array([23.43745027])], [array([57]), array([344.21586776]), array([29.56379953])], [array([34]), array([243.79287312]), array([45.93320969])], [array([64]), array([378.84578142]), array([28.6481987])], [array([25]), array([133.88384977]), array([18.27443786])], [array([53]), array([326.56693251]), array([32.22658686])], [array([62]), array([389.24094136]), array([49.19921993])], [array([41]), array([250.26985299]), array([16.86467506])], [array([21]), array([136.08924543]), array([4.24268037])], [array([53]), array([368.29556369]), array([73.95521804])], [array([48]), array([318.62560238]), array([49.67490995])], [array([24]), array([139.40479592]), array([7.67556106])], [array([24]), array([126.98012845]), array([20.10022854])], [array([30]), array([185.18703435]), array([7.6390935])], [array([32]), array([187.09760491]), array([0.60619723])], [array([45]), array([270.00424942]), array([16.28734891])], [array([52]), array([339.7693316]), array([50.5069166])], [array([21]), array([142.10120087]), array([10.25463581])], [array([60]), array([374.28347922]), array([44.39761907])], [array([43]), array([259.43540493]), array([15.87436572])], [array([32]), array([221.14244452]), array([33.43864239])], [array([30]), array([177.46485913]), array([0.08308172])], [array([58]), array([350.4872262]), array([30.75722734])], [array([51]), array([314.06726086]), array([29.8827765])], [array([30]), array([186.05979757]), array([8.51185672])], [array([55]), array([370.87480057]), array([66.37859364])], [array([45]), array([256.833127]), array([3.1162265])], [array([30]), array([167.24337759]), array([10.30456326])], [array([36]), array([189.73919689]), array([18.27632782])], [array([37]), array([247.70089824]), array([34.60744289])], [array([23]), array([159.09869458]), array([17.09626824])], [array([24]), array([157.51396037]), array([10.43360338])], [array([20]), array([96.75392597]), array([30.01470844])], [array([32]), array([207.14225143]), array([19.43844929])], [array([35]), array([220.96845179]), array([18.03085773])], [array([45]), array([259.12330052]), array([5.40640002])], [array([29]), array([142.98439511]), array([29.4856151])], [array([64]), array([389.11234551]), array([38.91476278])], [array([30]), array([217.96059713]), array([40.41265628])], [array([47]), array([300.03494665]), array([36.16218486])], [array([59]), array([342.18627902]), array([17.37834951])], [array([39]), array([234.36051228]), array([11.11119564])], [array([32]), array([201.83521553]), array([14.13141339])], [array([61]), array([412.83425631]), array([77.87046551])], [array([58]), array([378.75051645]), array([59.02051758])], [array([58]), array([366.6772719]), array([46.94727303])], [array([22]), array([147.76534866]), array([10.84085296])], [array([27]), array([151.96564954]), array([10.34849938])], [array([49]), array([326.86999045]), array([52.84136738])], [array([33]), array([200.22792609]), array([7.44619331])], [array([37]), array([237.73167939]), array([24.63822403])], [array([21]), array([151.32065796]), array([19.4740929])], [array([24]), array([140.78722458]), array([6.29313241])], [array([34]), array([219.7327205]), array([21.87305708])], [array([49]), array([302.53682047]), array([28.50819739])], [array([31]), array([153.99862171]), array([28.62724978])], [array([22]), array([140.92736562]), array([4.00286992])], [array([27]), array([175.37526863]), array([13.06111971])], [array([49]), array([313.12236579]), array([39.09374272])], [array([53]), array([325.06575248]), array([30.72540684])], [array([38]), array([253.93805009]), array([35.76666409])], [array([44]), array([274.73005551]), array([26.09108565])], [array([37]), array([250.76090254]), array([37.66744719])], [array([51]), array([294.82586752]), array([10.64138316])], [array([38]), array([221.33012794]), array([3.15874195])], [array([48]), array([260.80659752]), array([8.14409491])], [array([47]), array([287.916125]), array([24.04336322])], [array([21]), array([128.48471398]), array([3.36185108])], [array([32]), array([186.46155999]), array([1.24224214])], [array([52]), array([320.48447399]), array([31.22205899])], [array([32]), array([212.95377076]), array([25.24996863])], [array([27]), array([140.25503628]), array([22.05911264])], [array([43]), array([275.32502219]), array([31.76398298])], [array([50]), array([260.10509792]), array([19.0014558])], [array([65]), array([424.55804235]), array([69.28252898])], [array([46]), array([317.05788089]), array([58.26304975])], [array([57]), array([385.56297538]), array([70.91090716])], [array([65]), array([396.66651524]), array([41.39100187])], [array([63]), array([424.51073133]), array([79.39107925])], [array([49]), array([271.75164335]), array([2.27697972])], [array([29]), array([173.54835439]), array([1.07834419])]]\n"
     ]
    }
   ],
   "source": [
    "predictions = reg.predict(ages_train)\n",
    "cleaned_data = outlierCleaner(predictions, ages_train, net_worths_train)\n",
    "\n",
    "print(cleaned_data)"
   ]
  },
  {
   "cell_type": "code",
   "execution_count": 9,
   "metadata": {},
   "outputs": [
    {
     "name": "stdout",
     "output_type": "stream",
     "text": [
      "[[6.36859481]]\n",
      "0.983189455395532\n"
     ]
    },
    {
     "data": {
      "image/png": "[encoded data removed]",
      "text/plain": [
       "<Figure size 432x288 with 1 Axes>"
      ]
     },
     "metadata": {},
     "output_type": "display_data"
    }
   ],
   "source": [
    "### identify and remove the most outlier-y points\n",
    "cleaned_data = []\n",
    "try:\n",
    "    predictions = reg.predict(ages_train)\n",
    "    cleaned_data = outlierCleaner(predictions, ages_train, net_worths_train )\n",
    "except NameError:\n",
    "    print \"your regression object doesn't exist, or isn't name reg\"\n",
    "    print \"can't make predictions to use in identifying outliers\"\n",
    "\n",
    "\n",
    "### only run this code if cleaned_data is returning data\n",
    "if len(cleaned_data) > 0:\n",
    "    ages, net_worths, errors = zip(*cleaned_data)\n",
    "    ages       = np.reshape(np.array(ages), (len(ages), 1))\n",
    "    net_worths = np.reshape(np.array(net_worths), (len(net_worths), 1))\n",
    "\n",
    "    ### refit your cleaned data!\n",
    "    try:\n",
    "        reg.fit(ages, net_worths)\n",
    "        slope = reg.coef_\n",
    "        print(slope)\n",
    "\n",
    "        score = reg.score(ages_test,net_worths_test)\n",
    "        print(score)\n",
    "        plt.plot(ages, reg.predict(ages), color=\"blue\")\n",
    "    except NameError:\n",
    "        print \"you don't seem to have regression imported/created,\"\n",
    "        print \"   or else your regression object isn't named reg\"\n",
    "        print \"   either way, only draw the scatter plot of the cleaned data\"\n",
    "    plt.scatter(ages, net_worths)\n",
    "    plt.xlabel(\"ages\")\n",
    "    plt.ylabel(\"net worths\")\n",
    "    plt.show()\n",
    "\n",
    "\n",
    "else:\n",
    "    print \"outlierCleaner() is returning an empty list, no refitting to be done\"\n",
    "\n"
   ]
  },
  {
   "cell_type": "code",
   "execution_count": null,
   "metadata": {},
   "outputs": [],
   "source": []
  },
  {
   "cell_type": "code",
   "execution_count": null,
   "metadata": {},
   "outputs": [],
   "source": []
  }
 ],
 "metadata": {
  "kernelspec": {
   "display_name": "Python 2",
   "language": "python",
   "name": "python2"
  },
  "language_info": {
   "codemirror_mode": {
    "name": "ipython",
    "version": 2
   },
   "file_extension": ".py",
   "mimetype": "text/x-python",
   "name": "python",
   "nbconvert_exporter": "python",
   "pygments_lexer": "ipython2",
   "version": "2.7.13"
  }
 },
 "nbformat": 4,
 "nbformat_minor": 2
}
